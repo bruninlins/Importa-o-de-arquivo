{
 "cells": [
  {
   "cell_type": "code",
   "execution_count": 3,
   "metadata": {},
   "outputs": [
    {
     "name": "stdout",
     "output_type": "stream",
     "text": [
      "✅ Dados inseridos com sucesso!\n",
      "🔌 Conexão com o MySQL encerrada.\n"
     ]
    }
   ],
   "source": [
    "import csv\n",
    "import pymysql\n",
    "from pymysql.err import MySQLError\n",
    "\n",
    "# Função para normalizar os dados\n",
    "def normalize_data(value):\n",
    "    if isinstance(value, str):\n",
    "        return value.strip().lower()\n",
    "    return value\n",
    "\n",
    "# Configurações do banco de dados\n",
    "db_config = {\n",
    "    'host': 'localhost',\n",
    "    'user': 'root',\n",
    "    'password': 'Zx29573030!',\n",
    "    'database': 'teste',\n",
    "    'charset': 'utf8mb4',\n",
    "    'cursorclass': pymysql.cursors.Cursor\n",
    "}\n",
    "\n",
    "# Nome do arquivo CSV\n",
    "csv_file = './1t2023.csv'\n",
    "\n",
    "# Nome da tabela MySQL\n",
    "table_name = '1t2023'\n",
    "\n",
    "try:\n",
    "    # Conexão com o banco de dados\n",
    "    connection = pymysql.connect(**db_config)\n",
    "    cursor = connection.cursor()\n",
    "\n",
    "    # Leitura do arquivo CSV\n",
    "    with open(csv_file, 'r', encoding='utf-8') as file:\n",
    "        csv_reader = csv.reader(file, delimiter=';')\n",
    "        headers = next(csv_reader)  # Lê o cabeçalho\n",
    "\n",
    "        # Criação da tabela (se não existir)\n",
    "        create_table_query = f\"\"\"\n",
    "        CREATE TABLE IF NOT EXISTS `{table_name}` (\n",
    "            {', '.join([f'`{header}` TEXT' for header in headers])}\n",
    "        ) CHARACTER SET utf8mb4;\n",
    "        \"\"\"\n",
    "        cursor.execute(create_table_query)\n",
    "\n",
    "        # Inserção dos dados\n",
    "        insert_query = f\"\"\"\n",
    "        INSERT INTO `{table_name}` ({', '.join([f'`{col}`' for col in headers])})\n",
    "        VALUES ({', '.join(['%s'] * len(headers))})\n",
    "        \"\"\"\n",
    "        for row in csv_reader:\n",
    "            if len(row) != len(headers):\n",
    "              continue\n",
    "            normalized_row = [normalize_data(value) for value in row]\n",
    "            cursor.execute(insert_query, normalized_row)\n",
    "            \n",
    "\n",
    "    # Confirma as alterações\n",
    "    connection.commit()\n",
    "    print(\"✅ Dados inseridos com sucesso!\")\n",
    "\n",
    "except MySQLError as e:\n",
    "    print(f\"❌ Erro ao conectar ou executar operação no MySQL: {e}\")\n",
    "\n",
    "finally:\n",
    "    if connection:\n",
    "        cursor.close()\n",
    "        connection.close()\n",
    "        print(\"🔌 Conexão com o MySQL encerrada.\")"
   ]
  }
 ],
 "metadata": {
  "kernelspec": {
   "display_name": "Python 3",
   "language": "python",
   "name": "python3"
  },
  "language_info": {
   "codemirror_mode": {
    "name": "ipython",
    "version": 3
   },
   "file_extension": ".py",
   "mimetype": "text/x-python",
   "name": "python",
   "nbconvert_exporter": "python",
   "pygments_lexer": "ipython3",
   "version": "3.13.1"
  }
 },
 "nbformat": 4,
 "nbformat_minor": 2
}
